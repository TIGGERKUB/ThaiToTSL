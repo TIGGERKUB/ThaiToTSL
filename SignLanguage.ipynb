{
  "nbformat": 4,
  "nbformat_minor": 0,
  "metadata": {
    "colab": {
      "name": "SignLanguage.ipynb",
      "provenance": [],
      "collapsed_sections": [],
      "mount_file_id": "1Y3DmS-pl4ulnOoRc9m_nEN80i83ulv08",
      "authorship_tag": "ABX9TyOLp6GL7HX30JN2t2jK1ccd",
      "include_colab_link": true
    },
    "kernelspec": {
      "name": "python3",
      "display_name": "Python 3"
    },
    "accelerator": "GPU"
  },
  "cells": [
    {
      "cell_type": "markdown",
      "metadata": {
        "id": "view-in-github",
        "colab_type": "text"
      },
      "source": [
        "<a href=\"https://colab.research.google.com/github/TIGGERKUB/ThaiToTSL/blob/main/SignLanguage.ipynb\" target=\"_parent\"><img src=\"https://colab.research.google.com/assets/colab-badge.svg\" alt=\"Open In Colab\"/></a>"
      ]
    },
    {
      "cell_type": "code",
      "metadata": {
        "id": "-DQ69QWwe8_T"
      },
      "source": [
        "# !pip install sklearn_crfsuite\r\n",
        "# !pip install https://github.com/PyThaiNLP/pythainlp/archive/dev.zip\r\n",
        "# !pip install fastai==1.0.46\r\n",
        "# !pip install attacut"
      ],
      "execution_count": null,
      "outputs": []
    },
    {
      "cell_type": "code",
      "metadata": {
        "id": "6GckW29f7jk_"
      },
      "source": [
        "import numpy as np\n",
        "from keras.models import Model, load_model\n",
        "from keras.layers import Input, LSTM, Dense,Embedding\n",
        "from keras.utils import *\n",
        "from keras.initializers import *\n",
        "from keras.optimizers import Adam\n",
        "from keras.preprocessing.sequence import pad_sequences\n",
        "import tensorflow as tf\n",
        "import time, random\n",
        "import pandas as pd\n",
        "import re"
      ],
      "execution_count": null,
      "outputs": []
    },
    {
      "cell_type": "code",
      "metadata": {
        "id": "HBN3gkU2ilS_"
      },
      "source": [
        "from pythainlp.tokenize import word_tokenize\r\n",
        "from gensim.models import KeyedVectors\r\n",
        "from pythainlp import word_vector\r\n",
        "import numpy as np\r\n",
        "\r\n",
        "from sklearn.manifold import TSNE\r\n",
        "import matplotlib.pyplot as plt\r\n",
        "import matplotlib.font_manager as fm\r\n",
        "\r\n",
        "import dill as pickle\r\n",
        "import pandas as pd\r\n",
        "model_path = 'thwiki_data/models/'\r\n",
        "model = word_vector.get_model()\r\n"
      ],
      "execution_count": null,
      "outputs": []
    },
    {
      "cell_type": "code",
      "metadata": {
        "id": "sVnAPp-G-ABg"
      },
      "source": [
        "BATCH_SIZE = 64\r\n",
        "EPOCHS = 100\r\n",
        "LSTM_NODES =256\r\n",
        "MAX_SENTENCE_LENGTH = 50\r\n",
        "EMBEDDING_SIZE = 300\r\n",
        "MAX_NUM_WORDS = 100"
      ],
      "execution_count": null,
      "outputs": []
    },
    {
      "cell_type": "code",
      "metadata": {
        "id": "KZ7lXT_Tm1XT"
      },
      "source": [
        "embeddings_dictionary = {}\r\n",
        "for word in model.index2word:\r\n",
        "    embeddings_dictionary[word] = model[word]"
      ],
      "execution_count": null,
      "outputs": []
    },
    {
      "cell_type": "code",
      "metadata": {
        "id": "dv2KLeig9027"
      },
      "source": [
        "def read_data(filename):\n",
        "  df = pd.read_excel(filename)\n",
        "  return df"
      ],
      "execution_count": null,
      "outputs": []
    },
    {
      "cell_type": "code",
      "metadata": {
        "id": "eztDc4kV-wxf"
      },
      "source": [
        "path = \"/content/drive/MyDrive/Colab Notebooks/tsl/train_data.xlsx\"\n",
        "df = read_data(path)"
      ],
      "execution_count": null,
      "outputs": []
    },
    {
      "cell_type": "code",
      "metadata": {
        "id": "Dot5nVZmyzsg"
      },
      "source": [
        "pairs = list(zip(df['th tokenized'],df['tsl tokenized']))\n",
        "random.shuffle(pairs)"
      ],
      "execution_count": null,
      "outputs": []
    },
    {
      "cell_type": "code",
      "metadata": {
        "id": "R3EH4soPcE6m"
      },
      "source": [
        "input_sentences = []\n",
        "output_sentences = []\n",
        "output_sentences_inputs = []\n",
        "\n",
        "for ele in pairs:\n",
        "  input_sentence, output = ele[0], ele[1]\n",
        "  output_sentence = output + ' <eos>'\n",
        "  output_sentence_input = '<sos> ' + output\n",
        "\n",
        "  input_sentences.append(input_sentence)\n",
        "  output_sentences.append(output_sentence)\n",
        "  output_sentences_inputs.append(output_sentence_input)"
      ],
      "execution_count": null,
      "outputs": []
    },
    {
      "cell_type": "code",
      "metadata": {
        "id": "wyr9FMXN6DUs",
        "colab": {
          "base_uri": "https://localhost:8080/"
        },
        "outputId": "a1d49f48-ef1a-4eba-e72e-0d5debbcca52"
      },
      "source": [
        "print(input_sentences[50])\n",
        "print(output_sentences[50])\n",
        "print(output_sentences_inputs[50])"
      ],
      "execution_count": null,
      "outputs": [
        {
          "output_type": "stream",
          "text": [
            "พี่ ขับ รถ ไป ทำงาน\n",
            "ทำงาน รถ ไป พี่ ขับ <eos>\n",
            "<sos> ทำงาน รถ ไป พี่ ขับ\n"
          ],
          "name": "stdout"
        }
      ]
    },
    {
      "cell_type": "markdown",
      "metadata": {
        "id": "Di52_ZIwhl0i"
      },
      "source": [
        "# Unique word"
      ]
    },
    {
      "cell_type": "code",
      "metadata": {
        "colab": {
          "base_uri": "https://localhost:8080/"
        },
        "id": "rNaUA1UBIngh",
        "outputId": "14007c75-c35d-4fa6-9e9e-5af8ca457c8f"
      },
      "source": [
        "from keras.preprocessing.text import Tokenizer\r\n",
        "input_tokenizer = Tokenizer(num_words=MAX_NUM_WORDS)\r\n",
        "input_tokenizer.fit_on_texts(input_sentences)\r\n",
        "input_integer_seq = input_tokenizer.texts_to_sequences(input_sentences)\r\n",
        "\r\n",
        "word2idx_inputs = input_tokenizer.word_index\r\n",
        "print('Total unique words in the input: %s' % len(word2idx_inputs))\r\n",
        "\r\n",
        "max_input_len = max(len(sen) for sen in input_integer_seq)\r\n",
        "print(\"Length of longest sentence in input: %g\" % max_input_len)"
      ],
      "execution_count": null,
      "outputs": [
        {
          "output_type": "stream",
          "text": [
            "Total unique words in the input: 216\n",
            "Length of longest sentence in input: 7\n"
          ],
          "name": "stdout"
        }
      ]
    },
    {
      "cell_type": "code",
      "metadata": {
        "colab": {
          "base_uri": "https://localhost:8080/"
        },
        "id": "L29KC_tUW4lR",
        "outputId": "30e16200-3a32-415c-aa0c-a905deff8991"
      },
      "source": [
        "output_tokenizer = Tokenizer(num_words=MAX_NUM_WORDS,filters='')\r\n",
        "output_tokenizer.fit_on_texts(output_sentences + output_sentences_inputs)\r\n",
        "output_integer_seq = output_tokenizer.texts_to_sequences(output_sentences)\r\n",
        "output_input_integer_seq = output_tokenizer.texts_to_sequences(output_sentences_inputs)\r\n",
        "\r\n",
        "word2idx_outputs = output_tokenizer.word_index\r\n",
        "print('Total unique words in the output: %s' % len(word2idx_outputs))\r\n",
        "\r\n",
        "num_words_output = len(word2idx_outputs) + 1\r\n",
        "max_out_len = max(len(sen) for sen in output_integer_seq)\r\n",
        "print(\"Length of longest sentence in the output: %g\" % max_out_len)"
      ],
      "execution_count": null,
      "outputs": [
        {
          "output_type": "stream",
          "text": [
            "Total unique words in the output: 214\n",
            "Length of longest sentence in the output: 8\n"
          ],
          "name": "stdout"
        }
      ]
    },
    {
      "cell_type": "code",
      "metadata": {
        "colab": {
          "base_uri": "https://localhost:8080/"
        },
        "id": "xtetV7oQnTDf",
        "outputId": "101600be-3ac7-42e7-fcb0-016abea8e355"
      },
      "source": [
        "print(len(word2idx_inputs))\r\n",
        "print(len(word2idx_outputs))"
      ],
      "execution_count": null,
      "outputs": [
        {
          "output_type": "stream",
          "text": [
            "216\n",
            "214\n"
          ],
          "name": "stdout"
        }
      ]
    },
    {
      "cell_type": "markdown",
      "metadata": {
        "id": "3sE-QI43h1eZ"
      },
      "source": [
        "# Padding\r\n",
        "The reason behind padding the input and the output is that text sentences can be of varying length, however LSTM (the algorithm that we are going to train our model) expects input instances with the same length. Therefore, we need to convert our sentences into fixed-length vectors. One way to do this is via padding."
      ]
    },
    {
      "cell_type": "code",
      "metadata": {
        "colab": {
          "base_uri": "https://localhost:8080/"
        },
        "id": "zV01Bc9VV-oH",
        "outputId": "839b526f-12c3-4ee0-f244-350a53ead696"
      },
      "source": [
        "encoder_input_sequences = pad_sequences(input_integer_seq, maxlen=max_input_len)\r\n",
        "decoder_output_sequences = pad_sequences(output_input_integer_seq, maxlen=max_out_len, padding='post')\r\n",
        "print(\"encoder_input_sequences.shape:\", encoder_input_sequences.shape)\r\n",
        "print(\"decoder_output_sequences.shape:\", decoder_output_sequences.shape)"
      ],
      "execution_count": null,
      "outputs": [
        {
          "output_type": "stream",
          "text": [
            "encoder_input_sequences.shape: (99, 7)\n",
            "decoder_output_sequences.shape: (99, 8)\n"
          ],
          "name": "stdout"
        }
      ]
    },
    {
      "cell_type": "markdown",
      "metadata": {
        "id": "ueUqwZPKi4xt"
      },
      "source": [
        "# Word Embeddings"
      ]
    },
    {
      "cell_type": "code",
      "metadata": {
        "id": "mzYWQ9YNXaEc"
      },
      "source": [
        "num_words = len(word2idx_inputs) + 1\r\n",
        "embedding_matrix = np.zeros((num_words, EMBEDDING_SIZE))\r\n",
        "for word, index in word2idx_inputs.items():\r\n",
        "    embedding_vector = embeddings_dictionary.get(word)\r\n",
        "    if embedding_vector is not None:\r\n",
        "        embedding_matrix[index] = embedding_vector"
      ],
      "execution_count": null,
      "outputs": []
    },
    {
      "cell_type": "code",
      "metadata": {
        "id": "srYV6Yeka2qg"
      },
      "source": [
        "embedding_layer = Embedding(num_words, EMBEDDING_SIZE, weights=[embedding_matrix], input_length=max_input_len)"
      ],
      "execution_count": null,
      "outputs": []
    },
    {
      "cell_type": "markdown",
      "metadata": {
        "id": "Mz51ERCstdkX"
      },
      "source": [
        "# Creating the model"
      ]
    },
    {
      "cell_type": "code",
      "metadata": {
        "id": "WbLT2KQibMM0"
      },
      "source": [
        "decoder_targets_one_hot = np.zeros((\r\n",
        "        len(input_sentences),\r\n",
        "        max_out_len,\r\n",
        "        num_words_output\r\n",
        "    ),\r\n",
        "    dtype='float32'\r\n",
        ")"
      ],
      "execution_count": null,
      "outputs": []
    },
    {
      "cell_type": "code",
      "metadata": {
        "colab": {
          "base_uri": "https://localhost:8080/"
        },
        "id": "rhHEchr-bkmo",
        "outputId": "d89caf11-d6d6-4cda-9cb4-b34f3cc2d079"
      },
      "source": [
        "decoder_targets_one_hot.shape"
      ],
      "execution_count": null,
      "outputs": [
        {
          "output_type": "execute_result",
          "data": {
            "text/plain": [
              "(99, 8, 215)"
            ]
          },
          "metadata": {
            "tags": []
          },
          "execution_count": 18
        }
      ]
    },
    {
      "cell_type": "code",
      "metadata": {
        "id": "wp-5FUk3bopW"
      },
      "source": [
        "for i, d in enumerate(decoder_output_sequences):\r\n",
        "    for t, word in enumerate(d):\r\n",
        "        decoder_targets_one_hot[i, t, word] = 1"
      ],
      "execution_count": null,
      "outputs": []
    },
    {
      "cell_type": "markdown",
      "metadata": {
        "id": "bt_6XiQ-w8dF"
      },
      "source": [
        "**Encoder**"
      ]
    },
    {
      "cell_type": "code",
      "metadata": {
        "id": "qEBX8OFhgJNa"
      },
      "source": [
        "encoder_inputs_placeholder = Input(shape=(max_input_len,))\r\n",
        "x = embedding_layer(encoder_inputs_placeholder)\r\n",
        "encoder = LSTM(LSTM_NODES, return_state=True)\r\n",
        "\r\n",
        "encoder_outputs, h, c = encoder(x)\r\n",
        "encoder_states = [h, c]"
      ],
      "execution_count": null,
      "outputs": []
    },
    {
      "cell_type": "markdown",
      "metadata": {
        "id": "Etz7Vabow_mD"
      },
      "source": [
        "**Decoder**"
      ]
    },
    {
      "cell_type": "code",
      "metadata": {
        "id": "1bKF_2R-gSxO"
      },
      "source": [
        "decoder_inputs_placeholder = Input(shape=(max_out_len,))\r\n",
        "\r\n",
        "decoder_embedding = Embedding(num_words_output, LSTM_NODES)\r\n",
        "decoder_inputs_x = decoder_embedding(decoder_inputs_placeholder)\r\n",
        "\r\n",
        "decoder_lstm = LSTM(LSTM_NODES, return_sequences=True, return_state=True)\r\n",
        "decoder_outputs, _, _ = decoder_lstm(decoder_inputs_x, initial_state=encoder_states)"
      ],
      "execution_count": null,
      "outputs": []
    },
    {
      "cell_type": "code",
      "metadata": {
        "id": "JeOuPV2ggYUg"
      },
      "source": [
        "decoder_dense = Dense(num_words_output, activation='softmax')\r\n",
        "decoder_outputs = decoder_dense(decoder_outputs)"
      ],
      "execution_count": null,
      "outputs": []
    },
    {
      "cell_type": "code",
      "metadata": {
        "id": "7Ob-tywIgayE"
      },
      "source": [
        "model = Model([encoder_inputs_placeholder,\r\n",
        "  decoder_inputs_placeholder], decoder_outputs)\r\n",
        "model.compile(\r\n",
        "    optimizer='rmsprop',\r\n",
        "    loss='categorical_crossentropy',\r\n",
        "    metrics=['accuracy']\r\n",
        ")"
      ],
      "execution_count": null,
      "outputs": []
    },
    {
      "cell_type": "code",
      "metadata": {
        "colab": {
          "base_uri": "https://localhost:8080/",
          "height": 533
        },
        "id": "H3qg4an4j0KP",
        "outputId": "a23019d4-8895-4479-aa69-dd0dbf239c18"
      },
      "source": [
        "from keras.utils import plot_model\r\n",
        "plot_model(model, to_file='model_plot4a.png', show_shapes=True, show_layer_names=True)"
      ],
      "execution_count": null,
      "outputs": [
        {
          "output_type": "execute_result",
          "data": {
            "image/png": "[encoded data removed]",
            "text/plain": [
              "<IPython.core.display.Image object>"
            ]
          },
          "metadata": {
            "tags": []
          },
          "execution_count": 24
        }
      ]
    },
    {
      "cell_type": "code",
      "metadata": {
        "id": "v5xuiiZygdYn"
      },
      "source": [
        "model.fit(\r\n",
        "    [encoder_input_sequences, decoder_output_sequences],\r\n",
        "    decoder_targets_one_hot,\r\n",
        "    batch_size=BATCH_SIZE,\r\n",
        "    epochs=EPOCHS,\r\n",
        "    validation_split=0.2,\r\n",
        ")\r\n",
        "model.save(\"training_model.h5\")"
      ],
      "execution_count": null,
      "outputs": []
    },
    {
      "cell_type": "markdown",
      "metadata": {
        "id": "aCK_TbeW5IFw"
      },
      "source": [
        "# Modifying the Model for Predictions"
      ]
    },
    {
      "cell_type": "code",
      "metadata": {
        "id": "6aKF88Lli7ah"
      },
      "source": [
        "encoder_model = Model(encoder_inputs_placeholder, encoder_states)"
      ],
      "execution_count": null,
      "outputs": []
    },
    {
      "cell_type": "markdown",
      "metadata": {
        "id": "LZ0kYvd9_v9S"
      },
      "source": [
        "**Decoder hidden and cell states**"
      ]
    },
    {
      "cell_type": "code",
      "metadata": {
        "id": "ehX21Nchi9jR"
      },
      "source": [
        "decoder_state_input_h = Input(shape=(LSTM_NODES,))\r\n",
        "decoder_state_input_c = Input(shape=(LSTM_NODES,))\r\n",
        "decoder_states_inputs = [decoder_state_input_h, decoder_state_input_c]"
      ],
      "execution_count": null,
      "outputs": []
    },
    {
      "cell_type": "code",
      "metadata": {
        "id": "AiM9I9SNjDIc"
      },
      "source": [
        "decoder_inputs_single = Input(shape=(1,))\r\n",
        "decoder_inputs_single_x = decoder_embedding(decoder_inputs_single)"
      ],
      "execution_count": null,
      "outputs": []
    },
    {
      "cell_type": "code",
      "metadata": {
        "id": "eqO0uv1zjHbU"
      },
      "source": [
        "decoder_outputs, h, c = decoder_lstm(decoder_inputs_single_x, initial_state=decoder_states_inputs)"
      ],
      "execution_count": null,
      "outputs": []
    },
    {
      "cell_type": "code",
      "metadata": {
        "id": "sINOnB_ujNBE"
      },
      "source": [
        "decoder_states = [h, c]\r\n",
        "decoder_outputs = decoder_dense(decoder_outputs)"
      ],
      "execution_count": null,
      "outputs": []
    },
    {
      "cell_type": "code",
      "metadata": {
        "id": "3anYjt2JjOXI"
      },
      "source": [
        "decoder_model = Model(\r\n",
        "    [decoder_inputs_single] + decoder_states_inputs,\r\n",
        "    [decoder_outputs] + decoder_states\r\n",
        ")"
      ],
      "execution_count": null,
      "outputs": []
    },
    {
      "cell_type": "code",
      "metadata": {
        "colab": {
          "base_uri": "https://localhost:8080/",
          "height": 422
        },
        "id": "JpV4fpXljQkH",
        "outputId": "4e3108d5-7e5e-4c51-b4a3-225e686a2c5a"
      },
      "source": [
        "from keras.utils import plot_model\r\n",
        "plot_model(decoder_model, to_file='model_plot_dec.png', show_shapes=True, show_layer_names=True)"
      ],
      "execution_count": null,
      "outputs": [
        {
          "output_type": "execute_result",
          "data": {
            "image/png": "[encoded data removed]",
            "text/plain": [
              "<IPython.core.display.Image object>"
            ]
          },
          "metadata": {
            "tags": []
          },
          "execution_count": 32
        }
      ]
    },
    {
      "cell_type": "code",
      "metadata": {
        "id": "wmqlhAKFiyiM"
      },
      "source": [
        "idx2word_input = {v:k for k, v in word2idx_inputs.items()}\r\n",
        "idx2word_target = {v:k for k, v in word2idx_outputs.items()}"
      ],
      "execution_count": null,
      "outputs": []
    },
    {
      "cell_type": "code",
      "metadata": {
        "id": "UJVAaDbzjbfX"
      },
      "source": [
        "def translate_sentence(input_seq):\r\n",
        "    states_value = encoder_model.predict(input_seq)\r\n",
        "    target_seq = np.zeros((1, 1))\r\n",
        "    target_seq[0, 0] = word2idx_outputs['<sos>']\r\n",
        "    eos = word2idx_outputs['<eos>']\r\n",
        "    output_sentence = []\r\n",
        "\r\n",
        "    for _ in range(max_out_len):\r\n",
        "        output_tokens, h, c = decoder_model.predict([target_seq] + states_value)\r\n",
        "        idx = np.argmax(output_tokens[0, 0, :])\r\n",
        "\r\n",
        "        if eos == idx:\r\n",
        "            break\r\n",
        "\r\n",
        "        word = ''\r\n",
        "\r\n",
        "        if idx > 0:\r\n",
        "            word = idx2word_target[idx]\r\n",
        "            output_sentence.append(word)\r\n",
        "\r\n",
        "        target_seq[0, 0] = idx\r\n",
        "        states_value = [h, c]\r\n",
        "\r\n",
        "    return ' '.join(output_sentence)"
      ],
      "execution_count": null,
      "outputs": []
    },
    {
      "cell_type": "code",
      "metadata": {
        "id": "MCfMgB3OoD4-"
      },
      "source": [
        "import attacut\r\n",
        "from keras.preprocessing.text import Tokenizer\r\n",
        "\r\n",
        "def string_to_matrix(user_input):\r\n",
        "    atta = attacut.Tokenizer(model=\"attacut-sc\")\r\n",
        "    words = attacut.tokenize(user_input)\r\n",
        "    tokens = [words]\r\n",
        "\r\n",
        "    user_input_tokenizer = Tokenizer(num_words=MAX_NUM_WORDS)\r\n",
        "    user_input_tokenizer.fit_on_texts(tokens)\r\n",
        "    user_input_integer_seq = user_input_tokenizer.texts_to_sequences(tokens)\r\n",
        "\r\n",
        "    user_encoder_input_sequences = pad_sequences(user_input_integer_seq, maxlen=max_input_len)\r\n",
        "    return user_encoder_input_sequences"
      ],
      "execution_count": null,
      "outputs": []
    },
    {
      "cell_type": "code",
      "metadata": {
        "colab": {
          "base_uri": "https://localhost:8080/"
        },
        "id": "7HpSKo7omqs6",
        "outputId": "a973d073-3320-4a24-959e-559ca8b2ad31"
      },
      "source": [
        "input_text = input(\"Input: \\n\")\r\n",
        "input_seq = string_to_matrix(input_text)\r\n",
        "print(input_seq)\r\n",
        "translation = translate_sentence(input_seq)\r\n",
        "print(\"response: \",translation)"
      ],
      "execution_count": null,
      "outputs": [
        {
          "output_type": "stream",
          "text": [
            "Input: \n",
            "ฉันติดต่อคนขาย\n",
            "[[0 0 0 1 2 3 4]]\n",
            "response:  <sos> <sos> ใน ใน ใน ใน ใน ใน\n"
          ],
          "name": "stdout"
        }
      ]
    },
    {
      "cell_type": "code",
      "metadata": {
        "colab": {
          "base_uri": "https://localhost:8080/"
        },
        "id": "h6_OsBROvrm1",
        "outputId": "f4fd4d83-792e-4475-b63a-950f98d9af16"
      },
      "source": [
        "i = np.random.choice(len(input_sentences))\r\n",
        "input_seq = encoder_input_sequences[i:i+1]\r\n",
        "print(input_seq)\r\n",
        "translation = translate_sentence(input_seq)\r\n",
        "print('-')\r\n",
        "print('Input:', input_sentences[i])\r\n",
        "print('Response:', translation)"
      ],
      "execution_count": null,
      "outputs": [
        {
          "output_type": "stream",
          "text": [
            "[[ 1 55 56 57 19 12 58]]\n",
            "-\n",
            "Input: ฉัน ติดต่อ คนขาย ทันที ที่ ของ มาถึง\n",
            "Response: <sos> คนขาย คนขาย ติดต่อ ทันที ทันที ของ มาถึง\n"
          ],
          "name": "stdout"
        }
      ]
    },
    {
      "cell_type": "code",
      "metadata": {
        "id": "0I3QuxdIHUCM"
      },
      "source": [
        "# def decode_response(test_input):\r\n",
        "#     print(test_input.shape)\r\n",
        "#     #Getting the output states to pass into the decoder\r\n",
        "#     states_value = encoder_model.predict(test_input)\r\n",
        "\r\n",
        "#     #Generating empty target sequence of length 1\r\n",
        "#     target_seq = np.zeros((1, 1, num_decoder_tokens))\r\n",
        "\r\n",
        "#     #Setting the first token of target sequence with the start token\r\n",
        "#     target_seq[0, 0, word2idx_outputs['<sos>']] = 1.\r\n",
        "    \r\n",
        "#     #A variable to store our response word by word\r\n",
        "#     decoded_sentence = ''\r\n",
        "    \r\n",
        "#     stop_condition = False\r\n",
        "#     while not stop_condition:\r\n",
        "#       #Predicting output tokens with probabilities and states\r\n",
        "#       output_tokens, hidden_state, cell_state = decoder_model.predict([target_seq] + states_value)\r\n",
        "\r\n",
        "#       #Choosing the one with highest probability\r\n",
        "#       sampled_token_index = np.argmax(output_tokens[0, -1, :])\r\n",
        "#       sampled_token = idx2word_target[sampled_token_index]\r\n",
        "#       decoded_sentence += \" \" + sampled_token\r\n",
        "\r\n",
        "#       #Stop if hit max length or found the stop token\r\n",
        "#       if (sampled_token == '<eos>' or len(decoded_sentence) > max_out_len):\r\n",
        "#         stop_condition = True\r\n",
        "\r\n",
        "#       #Update the target sequence\r\n",
        "#       target_seq = np.zeros((1, 1, len(word2idx_outputs)))\r\n",
        "#       target_seq[0, 0, sampled_token_index] = 1.\r\n",
        "\r\n",
        "#       #Update states\r\n",
        "#       states_value = [hidden_state, cell_state]\r\n",
        "#     return decoded_sentence"
      ],
      "execution_count": null,
      "outputs": []
    },
    {
      "cell_type": "code",
      "metadata": {
        "id": "D7IiC7ScHIpv"
      },
      "source": [
        "# from attacut import tokenize, Tokenizer\r\n",
        "\r\n",
        "# class Translator:\r\n",
        "#   exit_commands = (\"quit\",\"exit\")\r\n",
        "  \r\n",
        "#   #Method to start the translator\r\n",
        "#   def start(self):\r\n",
        "#     user_response = input(\"Give in an sentence. :) \\n\")\r\n",
        "#     self.translate(user_response)\r\n",
        "  \r\n",
        "#   #Method to handle the conversation\r\n",
        "#   def translate(self, reply):\r\n",
        "#     while not self.make_exit(reply):\r\n",
        "#       reply = input(self.generate_response(reply)+\"\\n\")\r\n",
        "\r\n",
        "#   #Method to convert user input into a matrix\r\n",
        "#   def string_to_matrix(self, user_input):\r\n",
        "#     atta = Tokenizer(model=\"attacut-sc\")\r\n",
        "#     words = atta.tokenize(user_input)\r\n",
        "#     tokens = words\r\n",
        "#     user_input_matrix = np.zeros((1, max_input_len, len(word2idx_inputs)),dtype='float32')\r\n",
        "#     for timestep, token in enumerate(tokens):\r\n",
        "#       if token in word2idx_inputs:\r\n",
        "#         user_input_matrix[0, timestep, word2idx_inputs[token]] = 1.\r\n",
        "#     return user_input_matrix\r\n",
        "  \r\n",
        "#   #Method that will create a response using seq2seq model we built\r\n",
        "#   def generate_response(self, user_input):\r\n",
        "#     input_matrix = self.string_to_matrix(user_input)\r\n",
        "#     chatbot_response = decode_response(input_matrix)\r\n",
        "#     #Remove <sos> and <eos> tokens from chatbot_response\r\n",
        "#     chatbot_response = chatbot_response.replace(\"<sos>\",'')\r\n",
        "#     chatbot_response = chatbot_response.replace(\"<eos>\",'')\r\n",
        "#     return chatbot_response\r\n",
        "  \r\n",
        "#   #Method to check for exit commands\r\n",
        "#   def make_exit(self, reply):\r\n",
        "#     for exit_command in self.exit_commands:\r\n",
        "#       if exit_command in reply:\r\n",
        "#         print(\"Ok, have a great day!\")\r\n",
        "#         return True\r\n",
        "#     return False\r\n",
        "  \r\n",
        "# translator = Translator()"
      ],
      "execution_count": null,
      "outputs": []
    }
  ]
}